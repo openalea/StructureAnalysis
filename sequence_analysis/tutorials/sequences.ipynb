{
 "cells": [
  {
   "cell_type": "code",
   "execution_count": 1,
   "metadata": {},
   "outputs": [],
   "source": [
    "#!/usr/bin/python3.10"
   ]
  },
  {
   "cell_type": "markdown",
   "metadata": {},
   "source": [
    "Prerequisites: pandas, xlrd, matplotlib, rpy2"
   ]
  },
  {
   "cell_type": "markdown",
   "metadata": {},
   "source": [
    "# HSMC modelling"
   ]
  },
  {
   "cell_type": "markdown",
   "metadata": {},
   "source": [
    "## Configuration\n",
    "### It is assumed that this notebook is run from StructureAnalysis/sequence_analysis/tutorials"
   ]
  },
  {
   "cell_type": "code",
   "execution_count": 2,
   "metadata": {},
   "outputs": [],
   "source": [
    "import numpy as np\n",
    "from openalea.sequence_analysis import Estimate\n",
    "from openalea.sequence_analysis import Plot\n",
    "import os\n",
    "import pandas as pd\n",
    "# import random\n",
    "import matplotlib.pyplot as plt"
   ]
  },
  {
   "cell_type": "markdown",
   "metadata": {},
   "source": [
    "##### Check pandas version"
   ]
  },
  {
   "cell_type": "code",
   "execution_count": 3,
   "metadata": {},
   "outputs": [],
   "source": [
    "# print pd.__version__"
   ]
  },
  {
   "cell_type": "code",
   "execution_count": 4,
   "metadata": {},
   "outputs": [
    {
     "data": {
      "text/plain": [
       "'2.0.1'"
      ]
     },
     "execution_count": 4,
     "metadata": {},
     "output_type": "execute_result"
    }
   ],
   "source": [
    "import xlrd\n",
    "xlrd.__version__"
   ]
  },
  {
   "cell_type": "markdown",
   "metadata": {},
   "source": [
    "##### Enabling R extensions"
   ]
  },
  {
   "cell_type": "code",
   "execution_count": 5,
   "metadata": {},
   "outputs": [],
   "source": [
    "%load_ext rpy2.ipython"
   ]
  },
  {
   "cell_type": "markdown",
   "metadata": {},
   "source": [
    "#####  Place variables in markdown outputs"
   ]
  },
  {
   "cell_type": "code",
   "execution_count": 6,
   "metadata": {},
   "outputs": [],
   "source": [
    "from IPython.display import Markdown\n",
    "from IPython.core.magic import register_cell_magic\n",
    "\n",
    "\n",
    "@register_cell_magic\n",
    "def markdown(line, cell):\n",
    "    return Markdown(cell.format(**globals()))"
   ]
  },
  {
   "cell_type": "markdown",
   "metadata": {},
   "source": [
    "## Determining if images have to be saved (not used for the moment)"
   ]
  },
  {
   "cell_type": "markdown",
   "metadata": {},
   "source": [
    "## Loading and preparing data"
   ]
  },
  {
   "cell_type": "code",
   "execution_count": 7,
   "metadata": {},
   "outputs": [],
   "source": [
    "import sys, os"
   ]
  },
  {
   "cell_type": "code",
   "execution_count": 8,
   "metadata": {},
   "outputs": [
    {
     "data": {
      "text/plain": [
       "['/home/jdurand/usr/local/openalea',\n",
       " '/home/jdurand/mambaforge/envs/openalea/lib/python310.zip',\n",
       " '/home/jdurand/mambaforge/envs/openalea/lib/python3.10',\n",
       " '/home/jdurand/mambaforge/envs/openalea/lib/python3.10/lib-dynload',\n",
       " '',\n",
       " '/home/jdurand/.local/lib/python3.10/site-packages',\n",
       " '/home/jdurand/mambaforge/envs/openalea/lib/python3.10/site-packages',\n",
       " '/home/jdurand/mambaforge/envs/openalea/lib/python3.10/site-packages/OpenAlea.SConsX-2.4.0-py3.9.egg',\n",
       " '/home/jdurand/mambaforge/envs/openalea/lib/python3.10/site-packages/OpenAlea.StatTool-2.0.0-py3.10-linux-x86_64.egg',\n",
       " '/home/jdurand/mambaforge/envs/openalea/lib/python3.10/site-packages/OpenAlea.SequenceAnalysis-2.0.0-py3.10-linux-x86_64.egg',\n",
       " '/home/jdurand/mambaforge/envs/openalea/lib/python3.10/site-packages/openalea.deploy-3.1.2-py3.10.egg']"
      ]
     },
     "execution_count": 8,
     "metadata": {},
     "output_type": "execute_result"
    }
   ],
   "source": [
    "sys.path"
   ]
  },
  {
   "cell_type": "code",
   "execution_count": 9,
   "metadata": {},
   "outputs": [],
   "source": [
    "sys.path.append(\"..\" + os.sep + \"tutorials\")"
   ]
  },
  {
   "cell_type": "code",
   "execution_count": 10,
   "metadata": {},
   "outputs": [],
   "source": [
    "from openalea.seqint import model"
   ]
  },
  {
   "cell_type": "code",
   "execution_count": 11,
   "metadata": {},
   "outputs": [],
   "source": [
    "import graphviz"
   ]
  },
  {
   "cell_type": "code",
   "execution_count": 12,
   "metadata": {},
   "outputs": [],
   "source": [
    "import numpy as np\n",
    "\n",
    "from Utils import *\n",
    "from Code.amlseq2R import *"
   ]
  },
  {
   "cell_type": "code",
   "execution_count": 13,
   "metadata": {},
   "outputs": [
    {
     "name": "stdout",
     "output_type": "stream",
     "text": [
      "/home/jdurand/devlp/Git/openalea/StructureAnalysis/sequence_analysis/tutorials\n"
     ]
    }
   ],
   "source": [
    "print(os.getcwd())"
   ]
  },
  {
   "cell_type": "code",
   "execution_count": 14,
   "metadata": {},
   "outputs": [],
   "source": [
    "home_dir = \"./\"\n",
    "base_path = home_dir\n",
    "ressource_path = base_path\n",
    "os.chdir(base_path)"
   ]
  },
  {
   "cell_type": "code",
   "execution_count": 15,
   "metadata": {},
   "outputs": [
    {
     "data": {
      "text/plain": [
       "['seq1v_5s_LR_init.hsmc',\n",
       " 'sim_v_5s_LR.hsmc',\n",
       " 'Code',\n",
       " 'Utils',\n",
       " 'sequences.ipynb',\n",
       " '.ipynb_checkpoints']"
      ]
     },
     "execution_count": 15,
     "metadata": {},
     "output_type": "execute_result"
    }
   ],
   "source": [
    "os.listdir(ressource_path + os.sep )"
   ]
  },
  {
   "cell_type": "markdown",
   "metadata": {},
   "source": [
    "**Read an existing HSMC model**"
   ]
  },
  {
   "cell_type": "code",
   "execution_count": 16,
   "metadata": {},
   "outputs": [],
   "source": [
    "from openalea.sequence_analysis import HiddenSemiMarkov\n",
    "\n",
    "model_file = \"sim_v_5s_LR.hsmc\"\n",
    "#model_file = \"init_v_5s_LR.hsmc\"\n",
    "hmsc = HiddenSemiMarkov(ressource_path + os.sep + model_file)"
   ]
  },
  {
   "cell_type": "markdown",
   "metadata": {},
   "source": [
    "**Simulate sequences**"
   ]
  },
  {
   "cell_type": "code",
   "execution_count": 17,
   "metadata": {},
   "outputs": [],
   "source": [
    "from openalea.sequence_analysis import Simulate"
   ]
  },
  {
   "cell_type": "code",
   "execution_count": 18,
   "metadata": {},
   "outputs": [
    {
     "name": "stdout",
     "output_type": "stream",
     "text": [
      "\n",
      "N.o. initial states in parallel: 1\n"
     ]
    }
   ],
   "source": [
    "nb_seq = 10\n",
    "seq_length = 100\n",
    "seq = hmsc.simulation_nb_sequences(nb_seq, seq_length, True)"
   ]
  },
  {
   "cell_type": "code",
   "execution_count": 19,
   "metadata": {},
   "outputs": [
    {
     "name": "stdout",
     "output_type": "stream",
     "text": [
      "[[0, 4, 0, 0], [0, 0, 0, 0], [0, 4, 0, 0], [0, 0, 0, 0], [0, 0, 0, 0], [0, 4, 0, 0], [0, 1, 0, 0], [0, 0, 0, 0], [1, 1, 0, 1], [1, 1, 0, 1], [1, 1, 0, 0], [1, 1, 0, 0], [1, 1, 0, 1], [1, 1, 0, 1], [1, 1, 0, 1], [1, 1, 0, 0], [1, 2, 0, 1], [1, 1, 0, 1], [1, 1, 0, 1], [1, 1, 0, 1], [1, 1, 0, 0], [1, 1, 0, 1], [4, 3, 1, 1], [4, 0, 0, 1], [4, 3, 1, 0], [4, 2, 3, 1], [4, 2, 3, 1], [4, 3, 0, 1], [4, 2, 1, 1], [4, 3, 0, 1], [4, 2, 3, 1], [4, 3, 3, 1], [4, 3, 1, 1], [4, 3, 2, 1], [4, 3, 2, 0], [4, 3, 3, 1], [4, 2, 0, 1], [4, 1, 3, 1], [4, 3, 3, 1], [4, 3, 3, 0], [4, 1, 0, 1], [4, 3, 0, 1], [4, 0, 2, 0], [4, 3, 2, 1], [4, 3, 0, 1], [4, 3, 0, 1], [4, 2, 2, 1], [4, 3, 2, 1], [4, 3, 2, 1], [4, 3, 0, 1], [4, 3, 0, 1], [4, 3, 3, 1], [4, 2, 0, 0], [4, 2, 3, 1], [4, 3, 2, 1], [4, 3, 0, 1], [4, 3, 2, 1], [4, 3, 1, 0], [4, 2, 3, 1], [4, 3, 1, 1], [4, 2, 3, 1], [4, 3, 2, 1], [4, 3, 3, 1], [4, 3, 3, 1], [4, 1, 3, 0], [4, 3, 2, 1], [4, 3, 0, 1], [4, 2, 2, 1], [4, 2, 3, 1], [4, 3, 2, 0], [4, 2, 3, 0], [4, 0, 3, 1], [4, 3, 0, 1], [4, 3, 3, 1], [4, 2, 3, 0], [4, 3, 3, 1], [4, 3, 3, 1], [4, 3, 0, 0], [4, 3, 2, 1], [4, 3, 0, 1], [4, 3, 2, 1], [4, 3, 2, 0], [4, 3, 2, 1], [4, 3, 0, 1], [4, 2, 2, 0], [4, 2, 0, 0], [4, 3, 3, 1], [4, 3, 2, 0], [4, 3, 0, 1], [4, 3, 2, 1], [4, 3, 3, 1], [4, 2, 3, 1], [4, 3, 0, 1], [4, 3, 0, 1], [4, 2, 1, 1], [4, 3, 3, 1], [4, 3, 2, 1], [4, 3, 0, 0], [4, 3, 2, 0], [4, 2, 0, 1]]\n"
     ]
    }
   ],
   "source": [
    "# Print first simulated sequence.\n",
    "# First variable is the simulated state\n",
    "print(seq[0])"
   ]
  },
  {
   "cell_type": "markdown",
   "metadata": {},
   "source": [
    "**Perform operations on sequences**"
   ]
  },
  {
   "cell_type": "code",
   "execution_count": 20,
   "metadata": {},
   "outputs": [],
   "source": [
    "# Discard variable 1 (state)\n",
    "obs = seq.select_variable([1], keep=False)"
   ]
  },
  {
   "cell_type": "markdown",
   "metadata": {},
   "source": [
    "## Plotting marginal probabilities of data"
   ]
  },
  {
   "cell_type": "code",
   "execution_count": 21,
   "metadata": {},
   "outputs": [
    {
     "name": "stderr",
     "output_type": "stream",
     "text": [
      "/home/jdurand/mambaforge/envs/openalea/lib/python3.10/site-packages/OpenAlea.StatTool-2.0.0-py3.10-linux-x86_64.egg/openalea/stat_tool/output.py:804: UserWarning: Cannot use new plotter. Use old style plot.\n",
      "  warnings.warn(\"Cannot use new plotter. Use old style plot.\")\n"
     ]
    },
    {
     "ename": "ArgumentError",
     "evalue": "Python argument types in\n    _MarkovianSequences.plot_write(_MarkovianSequences, str, str, list)\ndid not match C++ signature:\n    plot_write(sequence_analysis::MarkovianSequences, std::__cxx11::basic_string<char, std::char_traits<char>, std::allocator<char> > prefix, std::__cxx11::basic_string<char, std::char_traits<char>, std::allocator<char> > title)",
     "output_type": "error",
     "traceback": [
      "\u001b[0;31m---------------------------------------------------------------------------\u001b[0m",
      "\u001b[0;31mArgumentError\u001b[0m                             Traceback (most recent call last)",
      "Cell \u001b[0;32mIn[21], line 2\u001b[0m\n\u001b[1;32m      1\u001b[0m \u001b[38;5;66;03m# Variable 1: lateral shoot type\u001b[39;00m\n\u001b[0;32m----> 2\u001b[0m \u001b[43mobs\u001b[49m\u001b[38;5;241;43m.\u001b[39;49m\u001b[43mplot\u001b[49m\u001b[43m(\u001b[49m\u001b[38;5;124;43m\"\u001b[39;49m\u001b[38;5;124;43mIntensity\u001b[39;49m\u001b[38;5;124;43m\"\u001b[39;49m\u001b[43m,\u001b[49m\u001b[43m \u001b[49m\u001b[38;5;241;43m0\u001b[39;49m\u001b[43m)\u001b[49m\n\u001b[1;32m      3\u001b[0m plt\u001b[38;5;241m.\u001b[39mshow()\n",
      "File \u001b[0;32m~/mambaforge/envs/openalea/lib/python3.10/site-packages/OpenAlea.StatTool-2.0.0-py3.10-linux-x86_64.egg/openalea/stat_tool/output.py:813\u001b[0m, in \u001b[0;36mStatInterface.plot\u001b[0;34m(self, *args, **kargs)\u001b[0m\n\u001b[1;32m    811\u001b[0m     plotter\u001b[38;5;241m.\u001b[39mplot(plotable, Title, groups, \u001b[38;5;241m*\u001b[39margs, \u001b[38;5;241m*\u001b[39m\u001b[38;5;241m*\u001b[39mkargs)\n\u001b[1;32m    812\u001b[0m \u001b[38;5;28;01melse\u001b[39;00m:\n\u001b[0;32m--> 813\u001b[0m     \u001b[38;5;28;43mself\u001b[39;49m\u001b[38;5;241;43m.\u001b[39;49m\u001b[43mold_plot\u001b[49m\u001b[43m(\u001b[49m\u001b[38;5;241;43m*\u001b[39;49m\u001b[43margs\u001b[49m\u001b[43m,\u001b[49m\u001b[43m \u001b[49m\u001b[38;5;241;43m*\u001b[39;49m\u001b[38;5;241;43m*\u001b[39;49m\u001b[43mkargs\u001b[49m\u001b[43m)\u001b[49m\n",
      "File \u001b[0;32m~/mambaforge/envs/openalea/lib/python3.10/site-packages/OpenAlea.StatTool-2.0.0-py3.10-linux-x86_64.egg/openalea/stat_tool/output.py:414\u001b[0m, in \u001b[0;36mStatInterface.old_plot\u001b[0;34m(self, *args, **kargs)\u001b[0m\n\u001b[1;32m    411\u001b[0m         \u001b[38;5;28;01mraise\u001b[39;00m \u001b[38;5;167;01mAttributeError\u001b[39;00m(\u001b[38;5;124m\"\u001b[39m\u001b[38;5;132;01m%s\u001b[39;00m\u001b[38;5;124m has not \u001b[39m\u001b[38;5;124m'\u001b[39m\u001b[38;5;124msegment_profile\u001b[39m\u001b[38;5;124m'\u001b[39m\u001b[38;5;124m viewpoint\u001b[39m\u001b[38;5;124m\"\u001b[39m\n\u001b[1;32m    412\u001b[0m                              \u001b[38;5;241m%\u001b[39m (\u001b[38;5;28mstr\u001b[39m(\u001b[38;5;28mtype\u001b[39m(\u001b[38;5;28mself\u001b[39m))))\n\u001b[1;32m    413\u001b[0m \u001b[38;5;28;01melif\u001b[39;00m(args):\n\u001b[0;32m--> 414\u001b[0m     \u001b[38;5;28;43mself\u001b[39;49m\u001b[38;5;241;43m.\u001b[39;49m\u001b[43mplot_write\u001b[49m\u001b[43m(\u001b[49m\u001b[43mprefix\u001b[49m\u001b[43m,\u001b[49m\u001b[43m \u001b[49m\u001b[43mtitle\u001b[49m\u001b[43m,\u001b[49m\u001b[43m \u001b[49m\u001b[38;5;28;43mlist\u001b[39;49m\u001b[43m(\u001b[49m\u001b[43margs\u001b[49m\u001b[43m)\u001b[49m\u001b[43m)\u001b[49m\n\u001b[1;32m    415\u001b[0m \u001b[38;5;28;01melse\u001b[39;00m:\n\u001b[1;32m    416\u001b[0m     \u001b[38;5;28mself\u001b[39m\u001b[38;5;241m.\u001b[39mplot_write(prefix, title)\n",
      "\u001b[0;31mArgumentError\u001b[0m: Python argument types in\n    _MarkovianSequences.plot_write(_MarkovianSequences, str, str, list)\ndid not match C++ signature:\n    plot_write(sequence_analysis::MarkovianSequences, std::__cxx11::basic_string<char, std::char_traits<char>, std::allocator<char> > prefix, std::__cxx11::basic_string<char, std::char_traits<char>, std::allocator<char> > title)"
     ]
    }
   ],
   "source": [
    "# Variable 1: lateral shoot type\n",
    "obs.plot(\"Intensity\", 0)\n",
    "plt.show()"
   ]
  },
  {
   "cell_type": "code",
   "execution_count": 22,
   "metadata": {},
   "outputs": [
    {
     "ename": "ArgumentError",
     "evalue": "Python argument types in\n    _MarkovianSequences.plot_write(_MarkovianSequences, str, str, list)\ndid not match C++ signature:\n    plot_write(sequence_analysis::MarkovianSequences, std::__cxx11::basic_string<char, std::char_traits<char>, std::allocator<char> > prefix, std::__cxx11::basic_string<char, std::char_traits<char>, std::allocator<char> > title)",
     "output_type": "error",
     "traceback": [
      "\u001b[0;31m---------------------------------------------------------------------------\u001b[0m",
      "\u001b[0;31mArgumentError\u001b[0m                             Traceback (most recent call last)",
      "Cell \u001b[0;32mIn[22], line 2\u001b[0m\n\u001b[1;32m      1\u001b[0m \u001b[38;5;66;03m# Variable 2: lateral flowering\u001b[39;00m\n\u001b[0;32m----> 2\u001b[0m \u001b[43mobs\u001b[49m\u001b[38;5;241;43m.\u001b[39;49m\u001b[43mplot\u001b[49m\u001b[43m(\u001b[49m\u001b[38;5;124;43m\"\u001b[39;49m\u001b[38;5;124;43mIntensity\u001b[39;49m\u001b[38;5;124;43m\"\u001b[39;49m\u001b[43m,\u001b[49m\u001b[43m \u001b[49m\u001b[38;5;241;43m1\u001b[39;49m\u001b[43m)\u001b[49m\n\u001b[1;32m      3\u001b[0m plt\u001b[38;5;241m.\u001b[39mshow()\n",
      "File \u001b[0;32m~/mambaforge/envs/openalea/lib/python3.10/site-packages/OpenAlea.StatTool-2.0.0-py3.10-linux-x86_64.egg/openalea/stat_tool/output.py:813\u001b[0m, in \u001b[0;36mStatInterface.plot\u001b[0;34m(self, *args, **kargs)\u001b[0m\n\u001b[1;32m    811\u001b[0m     plotter\u001b[38;5;241m.\u001b[39mplot(plotable, Title, groups, \u001b[38;5;241m*\u001b[39margs, \u001b[38;5;241m*\u001b[39m\u001b[38;5;241m*\u001b[39mkargs)\n\u001b[1;32m    812\u001b[0m \u001b[38;5;28;01melse\u001b[39;00m:\n\u001b[0;32m--> 813\u001b[0m     \u001b[38;5;28;43mself\u001b[39;49m\u001b[38;5;241;43m.\u001b[39;49m\u001b[43mold_plot\u001b[49m\u001b[43m(\u001b[49m\u001b[38;5;241;43m*\u001b[39;49m\u001b[43margs\u001b[49m\u001b[43m,\u001b[49m\u001b[43m \u001b[49m\u001b[38;5;241;43m*\u001b[39;49m\u001b[38;5;241;43m*\u001b[39;49m\u001b[43mkargs\u001b[49m\u001b[43m)\u001b[49m\n",
      "File \u001b[0;32m~/mambaforge/envs/openalea/lib/python3.10/site-packages/OpenAlea.StatTool-2.0.0-py3.10-linux-x86_64.egg/openalea/stat_tool/output.py:414\u001b[0m, in \u001b[0;36mStatInterface.old_plot\u001b[0;34m(self, *args, **kargs)\u001b[0m\n\u001b[1;32m    411\u001b[0m         \u001b[38;5;28;01mraise\u001b[39;00m \u001b[38;5;167;01mAttributeError\u001b[39;00m(\u001b[38;5;124m\"\u001b[39m\u001b[38;5;132;01m%s\u001b[39;00m\u001b[38;5;124m has not \u001b[39m\u001b[38;5;124m'\u001b[39m\u001b[38;5;124msegment_profile\u001b[39m\u001b[38;5;124m'\u001b[39m\u001b[38;5;124m viewpoint\u001b[39m\u001b[38;5;124m\"\u001b[39m\n\u001b[1;32m    412\u001b[0m                              \u001b[38;5;241m%\u001b[39m (\u001b[38;5;28mstr\u001b[39m(\u001b[38;5;28mtype\u001b[39m(\u001b[38;5;28mself\u001b[39m))))\n\u001b[1;32m    413\u001b[0m \u001b[38;5;28;01melif\u001b[39;00m(args):\n\u001b[0;32m--> 414\u001b[0m     \u001b[38;5;28;43mself\u001b[39;49m\u001b[38;5;241;43m.\u001b[39;49m\u001b[43mplot_write\u001b[49m\u001b[43m(\u001b[49m\u001b[43mprefix\u001b[49m\u001b[43m,\u001b[49m\u001b[43m \u001b[49m\u001b[43mtitle\u001b[49m\u001b[43m,\u001b[49m\u001b[43m \u001b[49m\u001b[38;5;28;43mlist\u001b[39;49m\u001b[43m(\u001b[49m\u001b[43margs\u001b[49m\u001b[43m)\u001b[49m\u001b[43m)\u001b[49m\n\u001b[1;32m    415\u001b[0m \u001b[38;5;28;01melse\u001b[39;00m:\n\u001b[1;32m    416\u001b[0m     \u001b[38;5;28mself\u001b[39m\u001b[38;5;241m.\u001b[39mplot_write(prefix, title)\n",
      "\u001b[0;31mArgumentError\u001b[0m: Python argument types in\n    _MarkovianSequences.plot_write(_MarkovianSequences, str, str, list)\ndid not match C++ signature:\n    plot_write(sequence_analysis::MarkovianSequences, std::__cxx11::basic_string<char, std::char_traits<char>, std::allocator<char> > prefix, std::__cxx11::basic_string<char, std::char_traits<char>, std::allocator<char> > title)"
     ]
    }
   ],
   "source": [
    "# Variable 2: lateral flowering\n",
    "obs.plot(\"Intensity\", 1)\n",
    "plt.show()"
   ]
  },
  {
   "cell_type": "code",
   "execution_count": 23,
   "metadata": {},
   "outputs": [
    {
     "ename": "ArgumentError",
     "evalue": "Python argument types in\n    _MarkovianSequences.plot_write(_MarkovianSequences, str, str, list)\ndid not match C++ signature:\n    plot_write(sequence_analysis::MarkovianSequences, std::__cxx11::basic_string<char, std::char_traits<char>, std::allocator<char> > prefix, std::__cxx11::basic_string<char, std::char_traits<char>, std::allocator<char> > title)",
     "output_type": "error",
     "traceback": [
      "\u001b[0;31m---------------------------------------------------------------------------\u001b[0m",
      "\u001b[0;31mArgumentError\u001b[0m                             Traceback (most recent call last)",
      "Cell \u001b[0;32mIn[23], line 2\u001b[0m\n\u001b[1;32m      1\u001b[0m \u001b[38;5;66;03m# Variable 3: terminal flowering\u001b[39;00m\n\u001b[0;32m----> 2\u001b[0m \u001b[43mobs\u001b[49m\u001b[38;5;241;43m.\u001b[39;49m\u001b[43mplot\u001b[49m\u001b[43m(\u001b[49m\u001b[38;5;124;43m\"\u001b[39;49m\u001b[38;5;124;43mIntensity\u001b[39;49m\u001b[38;5;124;43m\"\u001b[39;49m\u001b[43m,\u001b[49m\u001b[43m \u001b[49m\u001b[38;5;241;43m2\u001b[39;49m\u001b[43m)\u001b[49m\n\u001b[1;32m      3\u001b[0m plt\u001b[38;5;241m.\u001b[39mshow()\n",
      "File \u001b[0;32m~/mambaforge/envs/openalea/lib/python3.10/site-packages/OpenAlea.StatTool-2.0.0-py3.10-linux-x86_64.egg/openalea/stat_tool/output.py:813\u001b[0m, in \u001b[0;36mStatInterface.plot\u001b[0;34m(self, *args, **kargs)\u001b[0m\n\u001b[1;32m    811\u001b[0m     plotter\u001b[38;5;241m.\u001b[39mplot(plotable, Title, groups, \u001b[38;5;241m*\u001b[39margs, \u001b[38;5;241m*\u001b[39m\u001b[38;5;241m*\u001b[39mkargs)\n\u001b[1;32m    812\u001b[0m \u001b[38;5;28;01melse\u001b[39;00m:\n\u001b[0;32m--> 813\u001b[0m     \u001b[38;5;28;43mself\u001b[39;49m\u001b[38;5;241;43m.\u001b[39;49m\u001b[43mold_plot\u001b[49m\u001b[43m(\u001b[49m\u001b[38;5;241;43m*\u001b[39;49m\u001b[43margs\u001b[49m\u001b[43m,\u001b[49m\u001b[43m \u001b[49m\u001b[38;5;241;43m*\u001b[39;49m\u001b[38;5;241;43m*\u001b[39;49m\u001b[43mkargs\u001b[49m\u001b[43m)\u001b[49m\n",
      "File \u001b[0;32m~/mambaforge/envs/openalea/lib/python3.10/site-packages/OpenAlea.StatTool-2.0.0-py3.10-linux-x86_64.egg/openalea/stat_tool/output.py:414\u001b[0m, in \u001b[0;36mStatInterface.old_plot\u001b[0;34m(self, *args, **kargs)\u001b[0m\n\u001b[1;32m    411\u001b[0m         \u001b[38;5;28;01mraise\u001b[39;00m \u001b[38;5;167;01mAttributeError\u001b[39;00m(\u001b[38;5;124m\"\u001b[39m\u001b[38;5;132;01m%s\u001b[39;00m\u001b[38;5;124m has not \u001b[39m\u001b[38;5;124m'\u001b[39m\u001b[38;5;124msegment_profile\u001b[39m\u001b[38;5;124m'\u001b[39m\u001b[38;5;124m viewpoint\u001b[39m\u001b[38;5;124m\"\u001b[39m\n\u001b[1;32m    412\u001b[0m                              \u001b[38;5;241m%\u001b[39m (\u001b[38;5;28mstr\u001b[39m(\u001b[38;5;28mtype\u001b[39m(\u001b[38;5;28mself\u001b[39m))))\n\u001b[1;32m    413\u001b[0m \u001b[38;5;28;01melif\u001b[39;00m(args):\n\u001b[0;32m--> 414\u001b[0m     \u001b[38;5;28;43mself\u001b[39;49m\u001b[38;5;241;43m.\u001b[39;49m\u001b[43mplot_write\u001b[49m\u001b[43m(\u001b[49m\u001b[43mprefix\u001b[49m\u001b[43m,\u001b[49m\u001b[43m \u001b[49m\u001b[43mtitle\u001b[49m\u001b[43m,\u001b[49m\u001b[43m \u001b[49m\u001b[38;5;28;43mlist\u001b[39;49m\u001b[43m(\u001b[49m\u001b[43margs\u001b[49m\u001b[43m)\u001b[49m\u001b[43m)\u001b[49m\n\u001b[1;32m    415\u001b[0m \u001b[38;5;28;01melse\u001b[39;00m:\n\u001b[1;32m    416\u001b[0m     \u001b[38;5;28mself\u001b[39m\u001b[38;5;241m.\u001b[39mplot_write(prefix, title)\n",
      "\u001b[0;31mArgumentError\u001b[0m: Python argument types in\n    _MarkovianSequences.plot_write(_MarkovianSequences, str, str, list)\ndid not match C++ signature:\n    plot_write(sequence_analysis::MarkovianSequences, std::__cxx11::basic_string<char, std::char_traits<char>, std::allocator<char> > prefix, std::__cxx11::basic_string<char, std::char_traits<char>, std::allocator<char> > title)"
     ]
    }
   ],
   "source": [
    "# Variable 3: terminal flowering\n",
    "obs.plot(\"Intensity\", 2)\n",
    "plt.show()"
   ]
  },
  {
   "cell_type": "markdown",
   "metadata": {},
   "source": [
    "## HSCM re-estimation"
   ]
  },
  {
   "cell_type": "code",
   "execution_count": 24,
   "metadata": {},
   "outputs": [],
   "source": [
    "# Discard state variable\n",
    "seq1v = seq.select_variable([2, 3, 4], True)"
   ]
  },
  {
   "cell_type": "code",
   "execution_count": 25,
   "metadata": {},
   "outputs": [],
   "source": [
    "nb_states = 5\n",
    "init_file = base_path + os.sep + \"seq1v_\" + str(nb_states) + \"s_LR_init.hsmc\""
   ]
  },
  {
   "cell_type": "code",
   "execution_count": 26,
   "metadata": {},
   "outputs": [],
   "source": [
    "from openalea.sequence_analysis import Estimate\n",
    "from openalea.sequence_analysis import HiddenSemiMarkov"
   ]
  },
  {
   "cell_type": "code",
   "execution_count": 27,
   "metadata": {},
   "outputs": [],
   "source": [
    "# Conversion dos2unix file if needed\n",
    "try:\n",
    "    hmsc_init = HiddenSemiMarkov(init_file)\n",
    "except:\n",
    "     dos2unix(init_file, init_file)\n",
    "hmsc_init = HiddenSemiMarkov(init_file)\n"
   ]
  },
  {
   "cell_type": "markdown",
   "metadata": {},
   "source": [
    "### Estimate HSCM with default initialization\n"
   ]
  },
  {
   "cell_type": "markdown",
   "metadata": {},
   "source": [
    "Left-right model"
   ]
  },
  {
   "cell_type": "code",
   "execution_count": 28,
   "metadata": {
    "scrolled": true
   },
   "outputs": [
    {
     "name": "stdout",
     "output_type": "stream",
     "text": [
      "0\n"
     ]
    },
    {
     "ename": "ArgumentError",
     "evalue": "Python argument types in\n    _MarkovianSequences.hidden_semi_markov_estimation_model(_MarkovianSequences, str, int, bool, float, bool, EstimatorHSMType, bool, bool, int, ClusterType)\ndid not match C++ signature:\n    hidden_semi_markov_estimation_model(sequence_analysis::MarkovianSequences, stat_tool::process_type, int, bool, double, bool, bool, stat_tool::censoring_estimator, bool, bool, int, stat_tool::duration_distribution_mean_estimator tobedone)",
     "output_type": "error",
     "traceback": [
      "\u001b[0;31m---------------------------------------------------------------------------\u001b[0m",
      "\u001b[0;31mArgumentError\u001b[0m                             Traceback (most recent call last)",
      "Cell \u001b[0;32mIn[28], line 1\u001b[0m\n\u001b[0;32m----> 1\u001b[0m hsmc1 \u001b[38;5;241m=\u001b[39m \u001b[43mEstimate\u001b[49m\u001b[43m(\u001b[49m\u001b[43mseq1v\u001b[49m\u001b[43m,\u001b[49m\u001b[43m \u001b[49m\u001b[38;5;124;43m\"\u001b[39;49m\u001b[38;5;124;43mHIDDEN_SEMI-MARKOV\u001b[39;49m\u001b[38;5;124;43m\"\u001b[39;49m\u001b[43m,\u001b[49m\u001b[43m \u001b[49m\u001b[38;5;124;43m\"\u001b[39;49m\u001b[38;5;124;43mOrdinary\u001b[39;49m\u001b[38;5;124;43m\"\u001b[39;49m\u001b[43m,\u001b[49m\u001b[43m \u001b[49m\u001b[43mnb_states\u001b[49m\u001b[43m,\u001b[49m\u001b[43m \u001b[49m\u001b[38;5;124;43m\"\u001b[39;49m\u001b[38;5;124;43mLeftRight\u001b[39;49m\u001b[38;5;124;43m\"\u001b[39;49m\u001b[43m,\u001b[49m\u001b[43m \u001b[49m\u001b[43mNbiteration\u001b[49m\u001b[38;5;241;43m=\u001b[39;49m\u001b[38;5;241;43m300\u001b[39;49m\u001b[43m)\u001b[49m   \n\u001b[1;32m      2\u001b[0m \u001b[38;5;28mprint\u001b[39m(hsmc1)\n",
      "File \u001b[0;32m~/mambaforge/envs/openalea/lib/python3.10/site-packages/OpenAlea.SequenceAnalysis-2.0.0-py3.10-linux-x86_64.egg/openalea/sequence_analysis/estimate.py:863\u001b[0m, in \u001b[0;36mEstimate\u001b[0;34m(obj, *args, **kargs)\u001b[0m\n\u001b[1;32m    645\u001b[0m \u001b[38;5;250m\u001b[39m\u001b[38;5;124;03m\"\"\"Estimate\u001b[39;00m\n\u001b[1;32m    646\u001b[0m \n\u001b[1;32m    647\u001b[0m \u001b[38;5;124;03m* Estimation of distributions.\u001b[39;00m\n\u001b[0;32m   (...)\u001b[0m\n\u001b[1;32m    856\u001b[0m \n\u001b[1;32m    857\u001b[0m \u001b[38;5;124;03m\"\"\"\u001b[39;00m\n\u001b[1;32m    859\u001b[0m \u001b[38;5;66;03m# top case (no type specified and args may be empty)\u001b[39;00m\n\u001b[1;32m    860\u001b[0m \u001b[38;5;66;03m#if isinstance(obj, _Tops):\u001b[39;00m\n\u001b[1;32m    861\u001b[0m     \u001b[38;5;66;03m#return _estimate_top(obj, *args, **kargs)\u001b[39;00m\n\u001b[1;32m    862\u001b[0m \u001b[38;5;66;03m#else:\u001b[39;00m\n\u001b[0;32m--> 863\u001b[0m \u001b[38;5;28;01mreturn\u001b[39;00m \u001b[43m_estimate_dispatch\u001b[49m\u001b[43m(\u001b[49m\u001b[43mobj\u001b[49m\u001b[43m,\u001b[49m\u001b[43m \u001b[49m\u001b[38;5;241;43m*\u001b[39;49m\u001b[43margs\u001b[49m\u001b[43m,\u001b[49m\u001b[43m \u001b[49m\u001b[38;5;241;43m*\u001b[39;49m\u001b[38;5;241;43m*\u001b[39;49m\u001b[43mkargs\u001b[49m\u001b[43m)\u001b[49m\n",
      "File \u001b[0;32m~/mambaforge/envs/openalea/lib/python3.10/site-packages/OpenAlea.SequenceAnalysis-2.0.0-py3.10-linux-x86_64.egg/openalea/sequence_analysis/estimate.py:621\u001b[0m, in \u001b[0;36m_estimate_dispatch\u001b[0;34m(obj, *args, **kargs)\u001b[0m\n\u001b[1;32m    619\u001b[0m     \u001b[38;5;28;01mreturn\u001b[39;00m _estimate_hidden_variable_order_markov(obj, \u001b[38;5;241m*\u001b[39margs[\u001b[38;5;241m1\u001b[39m:], \u001b[38;5;241m*\u001b[39m\u001b[38;5;241m*\u001b[39mkargs)\n\u001b[1;32m    620\u001b[0m \u001b[38;5;28;01melif\u001b[39;00m itype \u001b[38;5;241m==\u001b[39m \u001b[38;5;124m\"\u001b[39m\u001b[38;5;124mHIDDEN_SEMI-MARKOV\u001b[39m\u001b[38;5;124m\"\u001b[39m:\n\u001b[0;32m--> 621\u001b[0m     \u001b[38;5;28;01mreturn\u001b[39;00m \u001b[43m_estimate_hidden_semi_markov\u001b[49m\u001b[43m(\u001b[49m\u001b[43mobj\u001b[49m\u001b[43m,\u001b[49m\u001b[43m \u001b[49m\u001b[38;5;241;43m*\u001b[39;49m\u001b[43margs\u001b[49m\u001b[43m[\u001b[49m\u001b[38;5;241;43m1\u001b[39;49m\u001b[43m:\u001b[49m\u001b[43m]\u001b[49m\u001b[43m,\u001b[49m\u001b[43m \u001b[49m\u001b[38;5;241;43m*\u001b[39;49m\u001b[38;5;241;43m*\u001b[39;49m\u001b[43mkargs\u001b[49m\u001b[43m)\u001b[49m\n\u001b[1;32m    622\u001b[0m \u001b[38;5;28;01melif\u001b[39;00m itype \u001b[38;5;241m==\u001b[39m \u001b[38;5;124m\"\u001b[39m\u001b[38;5;124mSEMI-MARKOV\u001b[39m\u001b[38;5;124m\"\u001b[39m:\n\u001b[1;32m    623\u001b[0m     \u001b[38;5;28;01mreturn\u001b[39;00m _estimate_semi_markov(obj, \u001b[38;5;241m*\u001b[39margs[\u001b[38;5;241m1\u001b[39m:], \u001b[38;5;241m*\u001b[39m\u001b[38;5;241m*\u001b[39mkargs)\n",
      "File \u001b[0;32m~/mambaforge/envs/openalea/lib/python3.10/site-packages/OpenAlea.SequenceAnalysis-2.0.0-py3.10-linux-x86_64.egg/openalea/sequence_analysis/estimate.py:414\u001b[0m, in \u001b[0;36m_estimate_hidden_semi_markov\u001b[0;34m(obj, *args, **kargs)\u001b[0m\n\u001b[1;32m    411\u001b[0m     \u001b[38;5;28;01mraise\u001b[39;00m \u001b[38;5;167;01mValueError\u001b[39;00m(\u001b[38;5;124m\"\u001b[39m\u001b[38;5;124mIncompatible user arguments\u001b[39m\u001b[38;5;124m\"\u001b[39m)\n\u001b[1;32m    413\u001b[0m \u001b[38;5;28;01mif\u001b[39;00m Algorithm \u001b[38;5;241m==\u001b[39m NO_COMPUTATION:\n\u001b[0;32m--> 414\u001b[0m     hsmarkov \u001b[38;5;241m=\u001b[39m \u001b[43mobj\u001b[49m\u001b[38;5;241;43m.\u001b[39;49m\u001b[43mhidden_semi_markov_estimation_model\u001b[49m\u001b[43m(\u001b[49m\u001b[43m \u001b[49m\u001b[43mType\u001b[49m\u001b[43m,\u001b[49m\u001b[43m \u001b[49m\u001b[43mNbState\u001b[49m\u001b[43m,\u001b[49m\n\u001b[1;32m    415\u001b[0m \u001b[43m                 \u001b[49m\u001b[43mLeftRight\u001b[49m\u001b[43m,\u001b[49m\u001b[43m \u001b[49m\u001b[43mInitialOccupancyMean\u001b[49m\u001b[43m,\u001b[49m\u001b[43m \u001b[49m\u001b[43mCommonDispersion\u001b[49m\u001b[43m,\u001b[49m\u001b[43m \u001b[49m\u001b[43mEstimator\u001b[49m\u001b[43m,\u001b[49m\n\u001b[1;32m    416\u001b[0m \u001b[43m                 \u001b[49m\u001b[43mCounting\u001b[49m\u001b[43m,\u001b[49m\u001b[43m \u001b[49m\u001b[43mStateSequence\u001b[49m\u001b[43m,\u001b[49m\u001b[43m \u001b[49m\u001b[43mNbIteration\u001b[49m\u001b[43m,\u001b[49m\u001b[43m \u001b[49m\u001b[43mMeanComputation\u001b[49m\u001b[43m)\u001b[49m\n\u001b[1;32m    417\u001b[0m     \u001b[38;5;28;01mreturn\u001b[39;00m hsmarkov\n\u001b[1;32m    419\u001b[0m \u001b[38;5;28;01melif\u001b[39;00m Algorithm \u001b[38;5;241m==\u001b[39m FORWARD_BACKWARD_SAMPLING:\n",
      "\u001b[0;31mArgumentError\u001b[0m: Python argument types in\n    _MarkovianSequences.hidden_semi_markov_estimation_model(_MarkovianSequences, str, int, bool, float, bool, EstimatorHSMType, bool, bool, int, ClusterType)\ndid not match C++ signature:\n    hidden_semi_markov_estimation_model(sequence_analysis::MarkovianSequences, stat_tool::process_type, int, bool, double, bool, bool, stat_tool::censoring_estimator, bool, bool, int, stat_tool::duration_distribution_mean_estimator tobedone)"
     ]
    }
   ],
   "source": [
    "hsmc1 = Estimate(seq1v, \"HIDDEN_SEMI-MARKOV\", \"Ordinary\", nb_states, \"LeftRight\", Nbiteration=300)   \n",
    "print(hsmc1)"
   ]
  },
  {
   "cell_type": "markdown",
   "metadata": {},
   "source": [
    "Irreducible model"
   ]
  },
  {
   "cell_type": "markdown",
   "metadata": {},
   "source": [
    "### Plot model and data characteristics.    \n",
    "Syntax: hsmc1.extract(int type, int variable, int value)    \n",
    "types correspond to SELF_TRANSITION , OBSERVATION , INTENSITY , FIRST_OCCURRENCE , RECURRENCE_TIME , SOJOURN_TIME ,   INITIAL_RUN , FINAL_RUN , NB_RUN , NB_OCCURRENCE ,  COUNTING , LENGTH , SEQUENCE_CUMUL , SEQUENCE_MEAN"
   ]
  },
  {
   "cell_type": "code",
   "execution_count": 29,
   "metadata": {},
   "outputs": [
    {
     "ename": "NameError",
     "evalue": "name 'hsmc1' is not defined",
     "output_type": "error",
     "traceback": [
      "\u001b[0;31m---------------------------------------------------------------------------\u001b[0m",
      "\u001b[0;31mNameError\u001b[0m                                 Traceback (most recent call last)",
      "Cell \u001b[0;32mIn[29], line 2\u001b[0m\n\u001b[1;32m      1\u001b[0m \u001b[38;5;66;03m# Type 1: emission distribution,  Variable 1: lateral shoot type, State 4\u001b[39;00m\n\u001b[0;32m----> 2\u001b[0m \u001b[43mhsmc1\u001b[49m\u001b[38;5;241m.\u001b[39mextract(\u001b[38;5;241m1\u001b[39m, \u001b[38;5;241m1\u001b[39m, \u001b[38;5;241m4\u001b[39m)\u001b[38;5;241m.\u001b[39mplot()\n\u001b[1;32m      3\u001b[0m plt\u001b[38;5;241m.\u001b[39mshow()\n",
      "\u001b[0;31mNameError\u001b[0m: name 'hsmc1' is not defined"
     ]
    }
   ],
   "source": [
    "# Type 1: emission distribution,  Variable 1: lateral shoot type, State 4\n",
    "hsmc1.extract(1, 1, 4).plot()\n",
    "plt.show()"
   ]
  },
  {
   "cell_type": "code",
   "execution_count": 30,
   "metadata": {},
   "outputs": [],
   "source": [
    "# hsmc1.extract(2, 1, 4).plot()"
   ]
  },
  {
   "cell_type": "code",
   "execution_count": 31,
   "metadata": {},
   "outputs": [
    {
     "ename": "NameError",
     "evalue": "name 'hsmc1' is not defined",
     "output_type": "error",
     "traceback": [
      "\u001b[0;31m---------------------------------------------------------------------------\u001b[0m",
      "\u001b[0;31mNameError\u001b[0m                                 Traceback (most recent call last)",
      "Cell \u001b[0;32mIn[31], line 5\u001b[0m\n\u001b[1;32m      3\u001b[0m \u001b[38;5;28;01mfor\u001b[39;00m i \u001b[38;5;129;01min\u001b[39;00m \u001b[38;5;28mrange\u001b[39m(\u001b[38;5;241m5\u001b[39m):\n\u001b[1;32m      4\u001b[0m     plt\u001b[38;5;241m.\u001b[39msubplot(\u001b[38;5;241m3\u001b[39m,\u001b[38;5;241m3\u001b[39m, i\u001b[38;5;241m+\u001b[39m\u001b[38;5;241m1\u001b[39m)\n\u001b[0;32m----> 5\u001b[0m     \u001b[43mhsmc1\u001b[49m\u001b[38;5;241m.\u001b[39mextract(\u001b[38;5;241m1\u001b[39m, \u001b[38;5;241m1\u001b[39m, i)\u001b[38;5;241m.\u001b[39mplot()\n",
      "\u001b[0;31mNameError\u001b[0m: name 'hsmc1' is not defined"
     ]
    },
    {
     "data": {
      "image/png": "[encoded data removed]",
      "text/plain": [
       "<Figure size 640x480 with 1 Axes>"
      ]
     },
     "metadata": {},
     "output_type": "display_data"
    }
   ],
   "source": [
    "# All emission distributions for variable 1\n",
    "plt.figure(1)\n",
    "for i in range(5):\n",
    "    plt.subplot(3,3, i+1)\n",
    "    hsmc1.extract(1, 1, i).plot()\n"
   ]
  },
  {
   "cell_type": "markdown",
   "metadata": {},
   "source": [
    "### TODO: states 3 and 4 are swapped?"
   ]
  },
  {
   "cell_type": "code",
   "execution_count": 32,
   "metadata": {},
   "outputs": [
    {
     "ename": "NameError",
     "evalue": "name 'hsmc1' is not defined",
     "output_type": "error",
     "traceback": [
      "\u001b[0;31m---------------------------------------------------------------------------\u001b[0m",
      "\u001b[0;31mNameError\u001b[0m                                 Traceback (most recent call last)",
      "Cell \u001b[0;32mIn[32], line 5\u001b[0m\n\u001b[1;32m      3\u001b[0m \u001b[38;5;28;01mfor\u001b[39;00m i \u001b[38;5;129;01min\u001b[39;00m \u001b[38;5;28mrange\u001b[39m(\u001b[38;5;241m5\u001b[39m):\n\u001b[1;32m      4\u001b[0m     plt\u001b[38;5;241m.\u001b[39msubplot(\u001b[38;5;241m3\u001b[39m,\u001b[38;5;241m3\u001b[39m, i\u001b[38;5;241m+\u001b[39m\u001b[38;5;241m1\u001b[39m)\n\u001b[0;32m----> 5\u001b[0m     \u001b[43mhsmc1\u001b[49m\u001b[38;5;241m.\u001b[39mextract(\u001b[38;5;241m1\u001b[39m, \u001b[38;5;241m2\u001b[39m, i)\u001b[38;5;241m.\u001b[39mplot()\n",
      "\u001b[0;31mNameError\u001b[0m: name 'hsmc1' is not defined"
     ]
    },
    {
     "data": {
      "image/png": "[encoded data removed]",
      "text/plain": [
       "<Figure size 640x480 with 1 Axes>"
      ]
     },
     "metadata": {},
     "output_type": "display_data"
    }
   ],
   "source": [
    "# All emission distributions for variable 2\n",
    "plt.figure(1)\n",
    "for i in range(5):\n",
    "    plt.subplot(3,3, i+1)\n",
    "    hsmc1.extract(1, 2, i).plot()"
   ]
  },
  {
   "cell_type": "code",
   "execution_count": null,
   "metadata": {
    "scrolled": true
   },
   "outputs": [],
   "source": [
    "print(Estimate(seq1v, \"HIDDEN_SEMI-MARKOV\", \"Ordinary\", nb_states, \"Irreducible\", Nbiteration=300))  \n"
   ]
  },
  {
   "cell_type": "markdown",
   "metadata": {},
   "source": [
    "Discard state sequence computations (entropy, Viterbi?)"
   ]
  },
  {
   "cell_type": "code",
   "execution_count": null,
   "metadata": {},
   "outputs": [],
   "source": [
    "print(Estimate(seq1v, \"HIDDEN_SEMI-MARKOV\", \"Ordinary\", nb_states, \"Irreducible\", Nbiteration=300, StateSequence=False))"
   ]
  },
  {
   "cell_type": "markdown",
   "metadata": {},
   "source": [
    "Using the MCEM option would cause the library to crash"
   ]
  },
  {
   "cell_type": "raw",
   "metadata": {},
   "source": [
    "print(Estimate(seq1v, \"HIDDEN_SEMI-MARKOV\", \"Ordinary\", nb_states, \"Irreducible\", Nbiteration=300, Algorithm=\"MCEM\", MinNbStateSequence=1, MaxNbStateSequence=10, Parameter=10))"
   ]
  },
  {
   "cell_type": "markdown",
   "metadata": {},
   "source": [
    "Using the Equilibrium option (stationary) would cause the library to crash"
   ]
  },
  {
   "cell_type": "raw",
   "metadata": {
    "scrolled": true
   },
   "source": [
    "print(Estimate(seq1v, \"HIDDEN_SEMI-MARKOV\", \"Equilibrium\", nb_states))   \n"
   ]
  },
  {
   "cell_type": "markdown",
   "metadata": {},
   "source": [
    "Change option in means of initial occupancy distributions"
   ]
  },
  {
   "cell_type": "code",
   "execution_count": null,
   "metadata": {},
   "outputs": [],
   "source": [
    "print(Estimate(seq1v, \"HIDDEN_SEMI-MARKOV\", \"Ordinary\", nb_states, \"Irreducible\", Nbiteration=300, InitialOccupancyMean=20))"
   ]
  },
  {
   "cell_type": "markdown",
   "metadata": {},
   "source": [
    "Change option in estimating occupancy distributions (censoring, etc.?)"
   ]
  },
  {
   "cell_type": "code",
   "execution_count": null,
   "metadata": {},
   "outputs": [],
   "source": [
    "print(Estimate(seq1v, \"HIDDEN_SEMI-MARKOV\", \"Ordinary\", nb_states, \"Irreducible\", Nbiteration=300, Estimator=\"KaplanMeier\"))"
   ]
  },
  {
   "cell_type": "markdown",
   "metadata": {},
   "source": [
    "Change option in state sequence restoration (Viterbi vs. smoothing)"
   ]
  },
  {
   "cell_type": "code",
   "execution_count": null,
   "metadata": {},
   "outputs": [],
   "source": [
    "print(Estimate(seq1v, \"HIDDEN_SEMI-MARKOV\", \"Ordinary\", nb_states, \"Irreducible\", Nbiteration=300, StateSequences=\"ForwardBackward\"))"
   ]
  },
  {
   "cell_type": "markdown",
   "metadata": {},
   "source": [
    "Change option in estimating occupancy distributions"
   ]
  },
  {
   "cell_type": "code",
   "execution_count": null,
   "metadata": {},
   "outputs": [],
   "source": [
    "print(Estimate(seq1v, \"HIDDEN_SEMI-MARKOV\", \"Ordinary\", nb_states, \"Irreducible\", Nbiteration=300, OccupancyMean=\"Estimated\"))"
   ]
  },
  {
   "cell_type": "markdown",
   "metadata": {},
   "source": [
    "Other options in estimate"
   ]
  },
  {
   "cell_type": "code",
   "execution_count": null,
   "metadata": {},
   "outputs": [],
   "source": [
    "help(Estimate)"
   ]
  },
  {
   "cell_type": "markdown",
   "metadata": {},
   "source": [
    "### Estimate HSCM with manual initialization from file"
   ]
  },
  {
   "cell_type": "code",
   "execution_count": null,
   "metadata": {
    "scrolled": false
   },
   "outputs": [],
   "source": [
    "hsmc1 = Estimate(seq1v, \"HIDDEN_SEMI-MARKOV\", hmsc_init, NbIteration=300)\n",
    "print(hsmc1)"
   ]
  },
  {
   "cell_type": "markdown",
   "metadata": {},
   "source": [
    "### Export states\n"
   ]
  },
  {
   "cell_type": "code",
   "execution_count": null,
   "metadata": {},
   "outputs": [],
   "source": [
    "from openalea.sequence_analysis import ExtractData\n",
    "seg = ExtractData(hsmc1) # Data and segmentation"
   ]
  },
  {
   "cell_type": "code",
   "execution_count": null,
   "metadata": {},
   "outputs": [],
   "source": [
    "# Restored states are added as the first variable to seq_1v, see\n",
    "print(seg[0][0:10])\n",
    "print(seq1v[0][0:10])"
   ]
  },
  {
   "cell_type": "code",
   "execution_count": null,
   "metadata": {},
   "outputs": [],
   "source": [
    "seg_dir = \"Results\""
   ]
  },
  {
   "cell_type": "code",
   "execution_count": null,
   "metadata": {},
   "outputs": [],
   "source": [
    "if not os.path.exists(seg_dir): \n",
    "    # if the seg_dir directory is not present  \n",
    "    # then create it. \n",
    "    os.makedirs(seg_dir) "
   ]
  },
  {
   "cell_type": "code",
   "execution_count": null,
   "metadata": {},
   "outputs": [],
   "source": [
    "# Export into file\n",
    "\n",
    "seg_file = \"seq1v_\" + str(nb_states) + \"s_LR_segm.seq\"\n",
    "output_Rpyseq1_file = seg_dir + os.sep + seg_file[0:-4] + \".csv\"\n",
    "WriteRSequence(seg, output_Rpyseq1_file, RestoredStatesHeader())"
   ]
  },
  {
   "cell_type": "markdown",
   "metadata": {},
   "source": [
    "Create DataFrame"
   ]
  },
  {
   "cell_type": "code",
   "execution_count": null,
   "metadata": {},
   "outputs": [],
   "source": [
    "df = pd.read_csv(output_Rpyseq1_file, index_col=0, comment=\"#\", usecols=range(6))\n",
    "var_names = [' axillary shoot type',' lateral flowering', ' terminal flowering']\n",
    "df = df[var_names]"
   ]
  },
  {
   "cell_type": "code",
   "execution_count": null,
   "metadata": {},
   "outputs": [],
   "source": [
    "# Add sequence identifiers to DF\n",
    "seqid = []\n",
    "for i in range(len(seq1v)):\n",
    "    seqid += [i+1] * len(seq1v[i])\n",
    "seqid\n",
    "df[\"seqid\"] = seqid"
   ]
  },
  {
   "cell_type": "code",
   "execution_count": null,
   "metadata": {},
   "outputs": [],
   "source": [
    "from seqint.pyseq_data_frame import PySeqDataFrame\n",
    "pyd = PySeqDataFrame(df, seq_index_name=\"seqid\")\n",
    "pyd.seq_index_name\n",
    "pyd.col_to_seq(var_names)\n",
    "seqc = pyd.get_input_sequence(var_names)"
   ]
  },
  {
   "cell_type": "code",
   "execution_count": null,
   "metadata": {},
   "outputs": [],
   "source": [
    "assert(str(seqc[0]) == str(seq1v[0]))"
   ]
  },
  {
   "cell_type": "markdown",
   "metadata": {},
   "source": [
    "### Embed HSCM within Model class for automatic parameter visualization\n"
   ]
  },
  {
   "cell_type": "code",
   "execution_count": null,
   "metadata": {},
   "outputs": [],
   "source": [
    "output_path = base_path + os.sep + \"Results\" \n",
    "model = Model(pyd, output_process_name=var_names, init_hsmc_file=init_file, output_path=output_path)\n",
    "model.iterate_em(300)\n",
    "model.hsmm.save(os.path.join(output_path, 'seq1v_' + str(nb_states) + 's_LR.hsmc'))\n",
    "model.print_hsmc_file(verbose=False)"
   ]
  },
  {
   "cell_type": "code",
   "execution_count": null,
   "metadata": {},
   "outputs": [],
   "source": [
    "from seqint import html_report\n",
    "\n",
    "output_path = \".\" + os.sep + \"tmp_dir\"\n",
    "\n",
    "if not os.path.exists(output_path):\n",
    "    os.mkdir(output_path)\n",
    "    \n",
    "report = html_report.Htmlreport(model, output_path=output_path)\n",
    "report.make_html(True)"
   ]
  },
  {
   "cell_type": "markdown",
   "metadata": {},
   "source": [
    "*Removing some garbage files*"
   ]
  },
  {
   "cell_type": "code",
   "execution_count": null,
   "metadata": {},
   "outputs": [],
   "source": [
    "report_prefix = report._html_report_file_path[0:-11]\n",
    "report_prefix = report_prefix.split(\"/\")[2]\n",
    "import glob\n",
    "for f in glob.glob(\".\" +os.sep +  \"*.dat\"):\n",
    "    os.remove(f)"
   ]
  },
  {
   "cell_type": "code",
   "execution_count": null,
   "metadata": {},
   "outputs": [],
   "source": [
    "print(\"Report printed in \" + str(report._html_report_file_path))"
   ]
  },
  {
   "cell_type": "code",
   "execution_count": null,
   "metadata": {},
   "outputs": [],
   "source": [
    "import shutil\n",
    "#shutil.rmtree(tempdir)"
   ]
  },
  {
   "cell_type": "code",
   "execution_count": null,
   "metadata": {},
   "outputs": [],
   "source": [
    "import dill\n",
    "# dill.dump_session('notebook_env.db')"
   ]
  },
  {
   "cell_type": "code",
   "execution_count": null,
   "metadata": {},
   "outputs": [],
   "source": []
  },
  {
   "cell_type": "code",
   "execution_count": null,
   "metadata": {},
   "outputs": [],
   "source": []
  }
 ],
 "metadata": {
  "kernelspec": {
   "display_name": "Python 3 (ipykernel)",
   "language": "python",
   "name": "python3"
  },
  "language_info": {
   "codemirror_mode": {
    "name": "ipython",
    "version": 3
   },
   "file_extension": ".py",
   "mimetype": "text/x-python",
   "name": "python",
   "nbconvert_exporter": "python",
   "pygments_lexer": "ipython3",
   "version": "3.10.14"
  }
 },
 "nbformat": 4,
 "nbformat_minor": 2
}
